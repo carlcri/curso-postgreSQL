{
 "cells": [
  {
   "cell_type": "markdown",
   "metadata": {},
   "source": [
    "# Llaves Foraneas\n",
    "\n",
    "Para esta practica se va crear una sencilla base de datos. Y gracias a *https://dbdiagram.io/home* que permite dibujar diagramas de indentidad de una forma sencilla y sin dolor, usando el DBML (database markup language)😹.\n",
    "\n",
    "https://dbml.dbdiagram.io/home/ \n",
    "\n",
    "![](https://i.imgur.com/3AnZf5u.png)"
   ]
  },
  {
   "cell_type": "markdown",
   "metadata": {},
   "source": [
    "Creamos una nueva base de datos llamada *instituro*:\n",
    "\n",
    "    CREATE DATABASE instituto;\n",
    "\n",
    "La creacion de las tablas y relaciones la realizamos en *pgadmin*, y añadimos algunos registros:\n",
    "\n",
    "![](https://i.imgur.com/Up9J8a2.png)\n",
    "\n",
    "![](https://i.imgur.com/rwLwSsf.png)\n",
    "\n",
    "![](https://i.imgur.com/auTrWAa.png)\n",
    "\n",
    "![](https://i.imgur.com/xzIUBYo.png)"
   ]
  },
  {
   "cell_type": "markdown",
   "metadata": {},
   "source": [
    "## UPDATE\n",
    "\n",
    "### NO ACTION\n",
    "\n",
    "Al momento de crear la foreign key, en ACTION, en ON_UPDATE tenia NO ACTION. Si intento actualizar el usuario 1, al cambiarle su ID, me da un error:\n",
    "\n",
    "    UPDATE public.usuario\n",
    "\t    SET id_usuario=4, nombre='andres'\n",
    "\t    WHERE id_usuario=1;\n",
    "\n",
    "*update or delete on table \"usuario\" violates foreign key constraint \"curso_usuario_fkey\" on table \"curso\"*"
   ]
  },
  {
   "cell_type": "markdown",
   "metadata": {},
   "source": [
    "### SET NULL\n",
    "\n",
    "Ejecutando el mismo script, y borrando la llave foranea y volviendola a crear, consultamos nuevamente las tablas.\n",
    "\n",
    "![](https://i.imgur.com/Lb6ddFk.png)\n",
    "\n",
    "Aqui no se ve, pero en *pgadmin*, si se observa que ahora tienen un valor *Null*\n",
    "\n",
    "![](https://i.imgur.com/8crl3ms.png)"
   ]
  },
  {
   "cell_type": "markdown",
   "metadata": {},
   "source": [
    "### Restrict\n",
    "\n",
    "    UPDATE public.usuario\n",
    "\t    SET id_usuario=5\n",
    "\t    WHERE id_usuario=2;\n",
    "\n",
    "*update or delete on table \"usuario\" violates foreign key constraint \"curso_usuario_fkey\" on table \"curso\"*"
   ]
  },
  {
   "cell_type": "markdown",
   "metadata": {},
   "source": [
    "### CASCADE\n",
    "\n",
    "Mismo querry anterior.\n",
    "\n",
    "![](https://i.imgur.com/nkApTkb.png)\n",
    "\n",
    "Efectivamente, sociales y frances ahora estan asignados al *id_usuario* 5."
   ]
  },
  {
   "cell_type": "markdown",
   "metadata": {},
   "source": [
    "### SET DEFAULT\n",
    "\n",
    "    UPDATE public.usuario\n",
    "\t    SET id_usuario=1\n",
    "\t    WHERE id_usuario=5;\n",
    "\n",
    "![](https://i.imgur.com/GUaybyi.png)\n",
    "\n",
    "Los volvio Nulos"
   ]
  },
  {
   "cell_type": "markdown",
   "metadata": {},
   "source": [
    "## ON DELETE\n",
    "\n",
    "Volvemos a restablecer los datos originales\n",
    "\n",
    "![](https://i.imgur.com/auTrWAa.png)"
   ]
  },
  {
   "cell_type": "markdown",
   "metadata": {},
   "source": [
    "### NO ACTION\n",
    "\n",
    "    DELETE FROM public.usuario\n",
    "\t    WHERE id_usuario=1;\n",
    "\n",
    "ERROR:  update or delete on table \"usuario\" violates foreign key constraint \"curso_usuario_fkey\" on table \"curso\"\n",
    "SQL state: 23503\n",
    "Detail: Key (id_usuario)=(1) is still referenced from table \"curso\".\n",
    "\n",
    "### RESTRICT\n",
    "\n",
    "La misma situacion anterior"
   ]
  },
  {
   "cell_type": "markdown",
   "metadata": {},
   "source": [
    "### ON CASCADE\n",
    "\n",
    "![](https://i.imgur.com/HwcRn2P.png)\n",
    "\n",
    "Los borro de la tabla "
   ]
  },
  {
   "cell_type": "markdown",
   "metadata": {},
   "source": [
    "### SET NUll\n",
    "\n",
    "    DELETE FROM public.usuario\n",
    "\t    WHERE id_usuario=2;\n",
    "\n",
    "![](https://i.imgur.com/ifpDyhu.png)\n",
    "\n",
    "Efectivamente ahora son nulos"
   ]
  },
  {
   "cell_type": "markdown",
   "metadata": {},
   "source": [
    "### SET DEFAULT\n",
    "\n",
    "    DELETE FROM public.usuario\n",
    "\t    WHERE id_usuario=3;\n",
    "\n",
    "\n",
    "![](https://i.imgur.com/KBUMgJe.png)\n",
    "\n",
    "No se ve, pero son ahora nullos"
   ]
  }
 ],
 "metadata": {
  "language_info": {
   "name": "python"
  },
  "orig_nbformat": 4
 },
 "nbformat": 4,
 "nbformat_minor": 2
}
