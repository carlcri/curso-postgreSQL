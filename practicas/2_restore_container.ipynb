{
 "cells": [
  {
   "cell_type": "markdown",
   "metadata": {},
   "source": [
    "# Restaurar una base de datos a partir de un backup en mi container de Docker\n",
    "\n",
    "Ya sabemos como crear un container con docker, montar un volumen para que persista la informacion. Ahora se nos pide restaurar el backup de una base de datos que tenemos en mi maquina host de *transporte*:\n",
    "\n",
    "Realmente el proceso no es complicado, pero se presentaron multiples intentos hasta que finalmente se logro el exito. \n",
    "\n",
    "El primero de ellos era que no existia el usuario *curso* que fue quien creo el *backup*, asi que en mi container se crea un nuevo usuario, y se le dan permisos de superusuario:\n",
    "\n",
    "    create user curso with password 'Curso2021.';\n",
    "    alter user curso with superuser;\n",
    "    \\dg\n",
    "\n",
    "Creamos la BD:\n",
    "\n",
    "    CREATE DATABASE transporte2 WITH OWNER curso;\n",
    "\n",
    "Otro error era que no reconocia la extension *dblink*, asi que la creamos:\n",
    "\n",
    "    \\c transporte2;\n",
    "    CREATE EXTENSION dblink;\n",
    "\n",
    "Otro error era que *usuario_consulta*\n",
    "\n",
    "    create user usuario_consulta with password 'etc1234'\n",
    "\n",
    "Finalmente, tal y como lo hizimos anteriormente, en la caja de dialogo, restaurarla con el usuario *curso*.\n"
   ]
  }
 ],
 "metadata": {
  "language_info": {
   "name": "python"
  },
  "orig_nbformat": 4
 },
 "nbformat": 4,
 "nbformat_minor": 2
}
