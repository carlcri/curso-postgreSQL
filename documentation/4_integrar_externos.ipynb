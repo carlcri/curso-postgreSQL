{
 "cells": [
  {
   "cell_type": "markdown",
   "metadata": {},
   "source": [
    "# Integrar Bases de Datos con Servicios externos"
   ]
  },
  {
   "cell_type": "markdown",
   "metadata": {},
   "source": [
    "## Simulando una conexión a Bases de Datos remotas\n",
    "\n",
    "Traer datos de servidores remotos gracias a **db_link**. Conectarnos a servidores externos dentro de una consulta.\n",
    "\n",
    "Para este modulo crearemos una base de datos: **db-remota** que simule la conexion remota. Y una tabla para los usuarios vip:\n",
    "\n",
    "- id: integer\n",
    "- fecha: date\n",
    "\n",
    "Y añadamos unos cuantos datos:\n",
    "\n",
    "    INSERT INTO public.vip(\n",
    "\tid, fecha)\n",
    "\t\tVALUES (50, '2019-01-30'),\n",
    "\t\t(53, '2017-05-10'),\n",
    "\t\t(99, '2016-04-05');\n",
    "\n"
   ]
  },
  {
   "cell_type": "markdown",
   "metadata": {},
   "source": [
    "### Conectandonos a la base remota\n",
    "\n",
    "Desde la base de datos *transporte* nos conectaremso a la bd que acabamos de crear. Iremos ilustrando el paso a paso, con todos los problemas que se puedan presentar.\n",
    "\n",
    "#### Funcion db_link sin instalar\n",
    "\n",
    "Toda esta string de conexion, podriamos encapsularla en una vista o vista materializada, para no exponer ni el usuario ni el password.\n",
    "\n",
    "![](https://i.imgur.com/LbJ4qsT.png)\n",
    "\n",
    "Y dara un error *function dblink(unknown, unknown) does not exist*. Creamos la extension en nuestra BD:\n",
    "\n",
    "    CREATE EXTENSION dblink\n",
    "\n",
    "#### Error:a column definition list is required for functions returning \"record\"\n",
    "\n",
    "Si volvemos a ejecutar, saldra ese error. Tendremso que llamarlo como una tabla local con el statemente **AS**, e indicarle en que formato los vamos a recibir. \n",
    "\n",
    "![](https://i.imgur.com/TkGSCzw.png)\n",
    "\n",
    "Volvemos a ejecutar"
   ]
  },
  {
   "cell_type": "markdown",
   "metadata": {},
   "source": [
    "#### Error: permission denied for table vip\n",
    "\n",
    "El *usuario_consulta* no tiene permisos para conectarse, se los damos con la opcion *grant wizard*\n",
    "\n",
    "![](https://i.imgur.com/e8eEKLp.png)\n",
    "\n",
    "y ahora... Funciona:\n",
    "\n",
    "![](https://i.imgur.com/aDZV1KR.png)\n",
    "\n",
    "Script Final:\n",
    "\n",
    "    SELECT * FROM \n",
    "    dblink('dbname=db-remota\n",
    "\t  port=5432\n",
    "\t  host=127.0.0.1\n",
    "\t  user=usuario_consulta\n",
    "\t  password=etc1234',\n",
    "\t  'SELECT id, fecha FROM vip')\n",
    "\t  AS datos_remotos (id integer, fecha date);"
   ]
  },
  {
   "cell_type": "markdown",
   "metadata": {},
   "source": [
    "### Haciendo un Join\n",
    "\n",
    "![](https://i.imgur.com/AtMXo2w.png)\n",
    "\n",
    "Script:\n",
    "\n",
    "    SELECT * FROM pasajero\n",
    "\tJOIN\n",
    "\tdblink('dbname=db-remota\n",
    "\t\tport=5432\n",
    "\t\thost=127.0.0.1\n",
    "\t\tuser=usuario_consulta\n",
    "\t\tpassword=etc1234',\n",
    "\t\t'SELECT id, fecha FROM vip')\n",
    "\t\tAS datos_remotos (id integer, fecha date)\n",
    "\tON (pasajero.id = datos_remotos.id);\n",
    "\n",
    "#### Usando el statement USING\n",
    "\n",
    "*USING* es un valor especial de las consultas, cuando los dos campos que vamos a comparar son iguales, en este caso en ambas tablas son *id*:\n",
    "\n",
    "![](https://i.imgur.com/90U3EVb.png)"
   ]
  },
  {
   "cell_type": "markdown",
   "metadata": {},
   "source": [
    "### Encapsulando los datos sensibles en una *VIEW*\n",
    "\n",
    "Creamos una nueva *view* con este SQL de nombre **vip_view**\n",
    "\n",
    "![](https://i.imgur.com/TkGSCzw.png)\n",
    "\n",
    "Reescribimos y ejecutamos:\n",
    "\n",
    "    SELECT * FROM pasajero\n",
    "    JOIN\n",
    "    vip_view\n",
    "    USING(id);"
   ]
  },
  {
   "cell_type": "markdown",
   "metadata": {},
   "source": [
    "## Transaciones\n",
    "\n",
    "Realizar procesos complejos seguros. Estructura Basica\n",
    "\n",
    "        BEGIN\n",
    "        [consultas]\n",
    "        COMMIT | ROLLBACK\n",
    "\n",
    "*BEGIN* le dice al motor de base de datos que vamos hacer lo siguiente en una sola transacion. Lo primero en *Pgadmin* es desactivar *autocommit*:\n",
    "\n",
    "ANTES:\n",
    "\n",
    "![](https://i.imgur.com/lStZV0B.png)\n",
    "\n",
    "DESPUES:\n",
    "\n",
    "![](https://i.imgur.com/PHGVdKd.png)\n",
    "\n",
    "https://www.todopostgresql.com/comandos-de-transacciones-en-postgresql/\n",
    "\n",
    "\n"
   ]
  },
  {
   "cell_type": "markdown",
   "metadata": {},
   "source": [
    "### Ejemplo 1.\n",
    "\n",
    "Ya desactivada la opcion de AutoCommit, ejecutamos\n",
    "\n",
    "![](https://i.imgur.com/mPEXA7w.png)"
   ]
  },
  {
   "cell_type": "markdown",
   "metadata": {},
   "source": [
    "### Ejemplo 2\n",
    "\n",
    "Si agregamos un *COMMIT* la transacion se realizara si todo esta bien, y si no lo agregamos, la transaccion estara abierta:\n",
    "\n",
    "Supongamos lo ejecutamos sin el COMMMIT.\n",
    "\n",
    "![](https://i.imgur.com/PjVwSIm.png)"
   ]
  },
  {
   "cell_type": "markdown",
   "metadata": {},
   "source": [
    "Y si revisamos ahora mismo las tablas *estacion* y *pasajeros* no se veran reflejados los INSERTS. \n",
    "Para que se vean reflejados debemos hacer un COMMIT ya sea escribiendolo, o con el botoncito. 😊\n",
    "\n",
    "Revisemos los ultimos 5 registros de cada tabla:\n",
    "\n",
    "    SELECT * FROM public.tren\n",
    "    ORDER BY id DESC LIMIT 5;\n",
    "\n",
    "    SELECT * FROM public.estacion\n",
    "    ORDER BY id DESC LIMIT 5;\n",
    "\n",
    "Con esto es posible es crear muchas consultas en un mismo bloque de codigo, y que todas se apliquen solo y solo si todas cumplen con el su funcion. "
   ]
  },
  {
   "cell_type": "markdown",
   "metadata": {},
   "source": [
    "### Ejemplo 3\n",
    "\n",
    "Hasta ahora las consultas realizadas han sido exitos, pero ¿que pasaria si alguna transacion falla?\n",
    "\n",
    "Supongamos insertamos una estacion que ya existe:\n",
    "\n",
    "![](https://i.imgur.com/xoNvpiA.png)"
   ]
  },
  {
   "cell_type": "markdown",
   "metadata": {},
   "source": [
    "Lo que normalmente pasaria es que se insertaria el tren, y no se insertaria la estacion. Pero como es una transacion, debe estar toda completa. \n",
    "\n",
    "De esta forma se asegura la integridad de la informacion, en el modelo ACID. \n",
    "\n",
    "#### ROLLBACK\n",
    "\n",
    "La palabra ROLLBACK no es muy comun usarla en transaciones tan explicitas como los INSERT, pero supongamos el siguiente caso de negocio, que solo querramos ingresar hasta cierta cantidad de pasajeros VIP, digamos 10. En la PL de INSERT podemos agregar una condicion que si ya hay 10 VIPs, y la condicion de INSERT iria justo antes del ROLLBACK, para que no se haga la insercion del pasajero 11. "
   ]
  },
  {
   "cell_type": "markdown",
   "metadata": {},
   "source": [
    "## Otras Extensiones de Postgres\n",
    "\n",
    "Asi como usamos anteriormente *db_link* que venia instalada al momento de instalar Postgres pero que no estaba activa.\n",
    "\n",
    "Hay extensiones para todo tipo: ML, math, etc etc\n",
    "\n",
    "https://www.postgresql.org/docs/9.1/contrib.html\n",
    "\n",
    "Importante saber la version:\n",
    "\n",
    "    SELECT VERSION();\n",
    "\n",
    "Instalaremos una extension llamada *fuzzystrmatch*, que contiene entre otras cosas varias funciones:\n",
    "\n",
    "![](https://i.imgur.com/EQx2tCx.png)\n",
    "\n",
    "- Levenstein, calculates the Levenshtein distance between two strings: calcula la cantidad de letras hay que cambiar para que dos palabras sean iguales.\n",
    "\n",
    "Si en este momento usamos cualquiera de ellas, saldra un error:\n",
    "\n",
    "    SELECT levenshtein('rusia', 'Prusia');\n",
    "\n",
    "Por lo que antes debemos activar la extension:\n",
    "\n",
    "    CREATE EXTENSION fuzzystrmatch;\n"
   ]
  },
  {
   "cell_type": "markdown",
   "metadata": {},
   "source": [
    "Otra funcion avanzada que podemos usar es *difference*, que tan similar es su pronunciacion en ingles, entre 0 y 4, a mayor numero mayor similitud\n",
    "\n",
    "    SELECT difference('rusia', 'Prusia');\n",
    "    SELECT difference('osvaldo', 'oswaldo');\n",
    "\n",
    "    SELECT difference('bear', 'bear');\n",
    "\n",
    "Si nuestra aplicacion usa analis de voz, podriamos implementar estas dos funciones y no tener que reinventar la rueda. "
   ]
  }
 ],
 "metadata": {
  "language_info": {
   "name": "python"
  },
  "orig_nbformat": 4
 },
 "nbformat": 4,
 "nbformat_minor": 2
}
