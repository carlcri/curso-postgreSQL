{
 "cells": [
  {
   "cell_type": "markdown",
   "metadata": {},
   "source": [
    "# Integrar Bases de Datos con Servicios externos"
   ]
  },
  {
   "cell_type": "markdown",
   "metadata": {},
   "source": [
    "## Simulando una conexión a Bases de Datos remotas\n",
    "\n",
    "Traer datos de servidores remotos gracias a **db_link**. Conectarnos a servidores externos dentro de una consulta.\n",
    "\n",
    "Para este modulo crearemos una base de datos: **db-remota** que simule la conexion remota. Y una tabla para los usuarios vip:\n",
    "\n",
    "- id: integer\n",
    "- fecha: date\n",
    "\n",
    "Y añadamos unos cuantos datos:\n",
    "\n",
    "    INSERT INTO public.vip(\n",
    "\tid, fecha)\n",
    "\t\tVALUES (50, '2019-01-30'),\n",
    "\t\t(53, '2017-05-10'),\n",
    "\t\t(99, '2016-04-05');\n",
    "\n"
   ]
  },
  {
   "cell_type": "markdown",
   "metadata": {},
   "source": [
    "### Conectandonos a la base remota\n",
    "\n",
    "Desde la base de datos *transporte* nos conectaremso a la bd que acabamos de crear. Iremos ilustrando el paso a paso, con todos los problemas que se puedan presentar.\n",
    "\n",
    "#### Funcion db_link sin instalar\n",
    "\n",
    "Toda esta string de conexion, podriamos encapsularla en una vista o vista materializada, para no exponer ni el usuario ni el password.\n",
    "\n",
    "![](https://i.imgur.com/LbJ4qsT.png)\n",
    "\n",
    "Y dara un error *function dblink(unknown, unknown) does not exist*. Creamos la extension en nuestra BD:\n",
    "\n",
    "    CREATE EXTENSION dblink\n",
    "\n",
    "#### Error:a column definition list is required for functions returning \"record\"\n",
    "\n",
    "Si volvemos a ejecutar, saldra ese error. Tendremso que llamarlo como una tabla local con el statemente **AS**, e indicarle en que formato los vamos a recibir. \n",
    "\n",
    "![](https://i.imgur.com/TkGSCzw.png)\n",
    "\n",
    "Volvemos a ejecutar"
   ]
  },
  {
   "cell_type": "markdown",
   "metadata": {},
   "source": [
    "#### Error: permission denied for table vip\n",
    "\n",
    "El *usuario_consulta* no tiene permisos para conectarse, se los damos con la opcion *grant wizard*\n",
    "\n",
    "![](https://i.imgur.com/e8eEKLp.png)\n",
    "\n",
    "y ahora... Funciona:\n",
    "\n",
    "![](https://i.imgur.com/aDZV1KR.png)\n",
    "\n",
    "Script Final:\n",
    "\n",
    "    SELECT * FROM \n",
    "    dblink('dbname=db-remota\n",
    "\t  port=5432\n",
    "\t  host=127.0.0.1\n",
    "\t  user=usuario_consulta\n",
    "\t  password=etc1234',\n",
    "\t  'SELECT id, fecha FROM vip')\n",
    "\t  AS datos_remotos (id integer, fecha date);"
   ]
  },
  {
   "cell_type": "markdown",
   "metadata": {},
   "source": [
    "### Haciendo un Join\n",
    "\n",
    "![](https://i.imgur.com/AtMXo2w.png)\n",
    "\n",
    "Script:\n",
    "\n",
    "    SELECT * FROM pasajero\n",
    "\tJOIN\n",
    "\tdblink('dbname=db-remota\n",
    "\t\tport=5432\n",
    "\t\thost=127.0.0.1\n",
    "\t\tuser=usuario_consulta\n",
    "\t\tpassword=etc1234',\n",
    "\t\t'SELECT id, fecha FROM vip')\n",
    "\t\tAS datos_remotos (id integer, fecha date)\n",
    "\tON (pasajero.id = datos_remotos.id);\n",
    "\n",
    "#### Usando el statement USING\n",
    "\n",
    "*USING* es un valor especial de las consultas, cuando los dos campos que vamos a comparar son iguales, en este caso en ambas tablas son *id*:\n",
    "\n",
    "![](https://i.imgur.com/90U3EVb.png)"
   ]
  },
  {
   "cell_type": "markdown",
   "metadata": {},
   "source": [
    "### Encapsulando los datos sensibles en una *VIEW*\n",
    "\n",
    "Creamos una nueva *view* con este SQL de nombre **vip_view**\n",
    "\n",
    "![](https://i.imgur.com/TkGSCzw.png)\n",
    "\n",
    "Reescribimos y ejecutamos:\n",
    "\n",
    "    SELECT * FROM pasajero\n",
    "    JOIN\n",
    "    vip_view\n",
    "    USING(id);"
   ]
  }
 ],
 "metadata": {
  "language_info": {
   "name": "python"
  },
  "orig_nbformat": 4
 },
 "nbformat": 4,
 "nbformat_minor": 2
}
