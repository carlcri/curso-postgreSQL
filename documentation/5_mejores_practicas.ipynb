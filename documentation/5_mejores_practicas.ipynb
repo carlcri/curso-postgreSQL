{
 "cells": [
  {
   "cell_type": "markdown",
   "metadata": {},
   "source": [
    "# Implementar Mejores Practicas"
   ]
  },
  {
   "cell_type": "markdown",
   "metadata": {},
   "source": [
    "## Backups y Restauracion.\n",
    "\n",
    "Importante tener copias de seguridad: **pg_dump**\n",
    "\n",
    "\n",
    "\n",
    "![](https://i.imgur.com/yHhKedZ.png)\n",
    "\n",
    "Y abrira una nueva ventana\n"
   ]
  },
  {
   "cell_type": "markdown",
   "metadata": {},
   "source": [
    "- Se le da un nombre: Ubicacion del archivo 📂\n",
    "\n",
    "En formato es importante entender:\n",
    "\n",
    "- custom: es un formato unico de Postgres para guardar el backup\n",
    "- tar: archivo comprimido\n",
    "- plain: sql plano, tendras cosas como *create table*\n",
    "- directory: estructura sin comprimir de la BD \n",
    "\n",
    "Vamos a usar custom,\n",
    "\n",
    "- Encoding prederminada, debe ser UTF-8\n",
    "- Role Name: quien va a ser el dueño de ese *dump*, por defecto es *postgres*, pero como estamos loguiados con la cuenta de *curso*, pues ya veras el es dueño del backup.\n",
    "\n",
    "![](https://i.imgur.com/HRm1E0o.png)"
   ]
  },
  {
   "cell_type": "markdown",
   "metadata": {},
   "source": [
    "### Pasando a la siguiente pestaña \n",
    "\n",
    "Opciones para crear el *dump*, en Data/Object. \n",
    "\n",
    "Si solo queremos la informacion o la estructura. Estas opciones son mutuamente excluyentes:\n",
    "\n",
    "![](https://i.imgur.com/umno8v8.png)\n",
    "\n",
    "Los blops son binarios, como imagenes, no es muy recomendable guardarlos.\n",
    "\n",
    "Te recomiendo darle click al boton de *interrogacion* y te abrira toda la documentacion: 👈\n",
    "\n",
    "http://127.0.0.1:38675/help/help/backup_dialog.html\n",
    "\n",
    "Le damos backup y ya esta. Por defecto lo guarda en el home en Linux. \n",
    "\n",
    "![](https://i.imgur.com/J67VIx8.png)\n",
    "\n",
    "Internamente usa la funcion standart de postgres que es *pg_dump* que sirve para crear los backups\n"
   ]
  },
  {
   "cell_type": "markdown",
   "metadata": {},
   "source": [
    "### Restaurando el backup\n",
    "\n",
    "Para el ejemplo, crearemos una base de datos vacia *transporte1*, y sobre ella, click derecho --> restore. Seleccionamos el archivo.\n",
    "\n",
    "Pero hay un problema, no me los esta dejando seleccionar, como si no existieran. 😡\n",
    "\n",
    "##### Posible solucion.\n",
    "\n",
    "![](https://i.imgur.com/VkVfiN9.png)\n",
    "\n",
    "- Guarda el archivo por defecto en tu home\n",
    "- Dale el *encodigin*\n",
    "- Especifica el Usuario\n",
    "\n",
    "![](https://i.imgur.com/rzoadeP.png)\n",
    "\n",
    "- Verifica el archivo no este vacio\n",
    "- Copia esa ruta.\n",
    "\n",
    "![](https://i.imgur.com/ms5CyOB.png)\n"
   ]
  },
  {
   "cell_type": "markdown",
   "metadata": {},
   "source": [
    "Al momento de restaurar, pega la ruta. Si todo esta bien, en *tranporte1* estara restaurada.\n",
    "\n",
    "Si por alguna razon tienes guardado el backup en otro lugar, copialo al home(~) 👈"
   ]
  },
  {
   "cell_type": "markdown",
   "metadata": {},
   "source": [
    "## Mantenimiento.\n",
    "\n",
    "- Limpieza liviana que la hace Postgres de manera automatica, sin que el usuario se de cuenta. \n",
    "\n",
    "- Completo, en el que se bloquen las tablas para hacerles limpieza y luego se desbloquean. Solo hacerlo si amerita, en casos de indexacion cuando en una tabla demasiado grande se demoren mucho las consultas.\n",
    "\n",
    "Se da click derecho ya sea sobre la tabla o toda la BD. Explicaremos primero a nivel de tablas. \n",
    "\n",
    "![](https://i.imgur.com/azrTuA3.png)\n",
    "\n",
    "A continuacion apareceran todas las opciones, donde algunas podras habilitar o desabilitarlas, pero la mas importante es *Vacuum*\n",
    "\n",
    "![](https://i.imgur.com/0TRBwu2.png)"
   ]
  },
  {
   "cell_type": "markdown",
   "metadata": {},
   "source": [
    "- Full: la tabla quedara limpia en su totalidad. Se hara revision de todas las filas e indices que ya no sean aplicables se eliminen.\n",
    "\n",
    "- Freeze: que durante ese proceso se va a congelar\n",
    "\n",
    "- Analize: que ejecute una revision pero que no haga cambios. \n",
    "\n",
    "- Cluster\n",
    "\n",
    "Estas cuatro opciones es recomendable no hacerlas manualmente. Postgres lo lleva haciendo mucho tiempo y muy bien. Sin embargo habra ocasiones en las que se hayan cometido errores en la creacion y sea necesario hacerle una limpieza, y darle un nuevo incio a tu motor de base de datos.\n",
    "\n",
    "Entonces en ese caso a nivel de BD le damos *Vacuum*. COmo cuanto te envian un correo y te dicen que el servico no va estar disponible por mantenimiento. \n"
   ]
  },
  {
   "cell_type": "markdown",
   "metadata": {},
   "source": [
    "## Introducion a Replicas\n",
    "\n",
    "*Si un experto te dice que son importantes las replicas, es porque son importantes*\n",
    "\n",
    "*Existen dos tipos de personas, las que ya usan replicas y las que lo van a usar--Piensa siempre en modo replica*\n",
    "\n",
    "En Disco Duro(HD) no se puede realizar simultanemente Lectura y Escritura. Y por eso Postgres bloquea la tabla para escribir mientras se esta leyendo y visceversa. Pero cuando hay miles de consultas y escrituras por segundo, entonces hay un problema.\n",
    "\n",
    "### Solucion\n",
    "\n",
    "Tener una DB principal(Master) donde se hacen las modificaciones principales, Y tener un DB secundaria(Replica) donde solo se hacen las lecturas. Esta configuracion evita que se hagan cambios en la BD replica asi lo intentemos.  "
   ]
  }
 ],
 "metadata": {
  "language_info": {
   "name": "python"
  },
  "orig_nbformat": 4
 },
 "nbformat": 4,
 "nbformat_minor": 2
}
