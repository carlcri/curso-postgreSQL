{
 "cells": [
  {
   "cell_type": "markdown",
   "metadata": {},
   "source": [
    "# Generar Consultar Avanzadas"
   ]
  },
  {
   "cell_type": "markdown",
   "metadata": {},
   "source": [
    "## Cruzar tablas: SQL JOIN\n",
    "\n",
    "![](https://i.imgur.com/9c9jH95.jpg)"
   ]
  },
  {
   "cell_type": "markdown",
   "metadata": {},
   "source": [
    "### Tipos de Joins\n",
    "\n",
    "- JOIN(INNER)\n",
    "- LEFT(OUTER)\n",
    "- RIGHT(OUTER)\n",
    "- FULLOUTER\n",
    "\n",
    "Un join en PostgreSQL es una operación que combina filas de dos o más tablas en una sola tabla resultante. Se utiliza para recuperar información relacionada de diferentes tablas y para crear consultas más complejas.\n",
    "\n",
    "Hay varios tipos de join en PostgreSQL, incluyendo:\n",
    "\n",
    "- Inner join: solo incluye las filas que tienen una coincidencia en ambas tablas.\n",
    "\n",
    "- Left join: incluye todas las filas de la tabla de la izquierda y las filas coincidentes de la tabla de la derecha. Si no hay una coincidencia, los valores en las columnas de la tabla de la derecha serán NULL.\n",
    "\n",
    "- Right join: incluye todas las filas de la tabla de la derecha y las filas coincidentes de la tabla de la izquierda. Si no hay una coincidencia, los valores en las columnas de la tabla de la izquierda serán NULL.\n",
    "\n",
    "- Full outer join: incluye todas las filas de ambas tablas, ya sea que haya una coincidencia o no. Si no hay una coincidencia, los valores en las columnas de una de las tablas serán NULL."
   ]
  },
  {
   "cell_type": "markdown",
   "metadata": {},
   "source": [
    "### Saber que pasajeros han tomado por lo menos un viaje:\n",
    "\n",
    "    SELECT * FROM pasajero\n",
    "    JOIN viaje ON (viaje.id_pasajero = pasajero.id);\n",
    "\n",
    "y aqui contando los registros:\n",
    "\n",
    "    SELECT COUNT(*) FROM pasajero\n",
    "    JOIN viaje ON (viaje.id_pasajero = pasajero.id);\n",
    "\n",
    "Encontramos 750 que coincide con el tamaño de la tabla *viaje*.\n",
    "\n",
    "¡No lo se RICK, parece Falso!\n",
    "\n",
    "### Que pasajeros no han tomado ni un solo viaje\n",
    "\n",
    "    SELECT COUNT(*) FROM pasajero\n",
    "    LEFT JOIN viaje ON (viaje.id_pasajero = pasajero.id)\n",
    "    WHERE viaje.id IS NULL;\n",
    "\n",
    "Nos da 24 \n"
   ]
  },
  {
   "cell_type": "markdown",
   "metadata": {},
   "source": [
    "## Funciones Especiales Principales\n",
    "\n",
    "Postgres tiene una lista de funciones especiales que ayudan a desarrollar tu aplicacion mucho mas rapido, si estan implementadas en otros motores de BD pueda que no funcionen igual:\n",
    "\n",
    "- ON CONFLICT DO \n",
    "\n",
    "- RETURNING: muy util para no tener que hacer un SELECT despues de un INSERT.\n",
    "\n",
    "- LIKE/ILIKE: realizar busquedas al estilo de expresiones regulares\n",
    "\n",
    "- IS/ IS NOT: Comparar dos tipos de datos que no son estandar: saber si un campo es NULL o no lo es. "
   ]
  },
  {
   "cell_type": "markdown",
   "metadata": {},
   "source": [
    "### ON CONFLICT DO\n",
    "\n",
    "supongamos que queremos insertar una nueva estacion con el ID=1, que ya existe, entonces habra un error: dulicate key.\n",
    "\n",
    "Consultemos los 10 primieros registros:\n",
    "\n",
    "    SELECT * FROM estacion LIMIT 10;\n",
    "\n",
    "Ahora si el INSERT:\n",
    "\n",
    "INSERT INTO public.estacion(\n",
    "\tid, nombre, direccion)\n",
    "\tVALUES (5, 'nombre', 'direccion')\n",
    "\n",
    "Podemos usar ON CONFLICT de dos maneras: que no haga nada, y no haya error:\n",
    "\n",
    "    INSERT INTO public.estacion(\n",
    "\t\tid, nombre, direccion)\n",
    "\t\tVALUES (5, 'nombre', 'direccion')\n",
    "\t\tON CONFLICT DO NOTHING;\n",
    "\n",
    "O que haga un update:\n",
    "\n",
    "![](https://i.imgur.com/n9TnZFE.png)\n",
    "\n",
    "Especificar la columna que entre en conflicto, en este caso *id*\n",
    "\n",
    "\n",
    "\n"
   ]
  },
  {
   "cell_type": "markdown",
   "metadata": {},
   "source": [
    "### RETURNING\n",
    "\n",
    "Supongamos queremos insertar una nueva estacion, y queremos verlo todo\n",
    "\n",
    "![](https://i.imgur.com/UJbQ0Cs.png)"
   ]
  },
  {
   "cell_type": "markdown",
   "metadata": {},
   "source": [
    "### LIKE y ILIKE\n",
    "\n",
    "- LIKE: Case Sensitive\n",
    "- ILIKE: case-insensitive.\n",
    "\n",
    "LIKE y ILIKEtiene dos atributos:\n",
    "\n",
    "- porcentaje(%): Uno o cualquier valor\n",
    "- guion al piso(_): solamente uno\n",
    "\n",
    "¿Que pasajeros empiezan por la letra *o*: 'o%':\n",
    "\n",
    "    SELECT name\n",
    "\tFROM pasajero\n",
    "\tWHERE name LIKE 'o%'; \n",
    "\n",
    "No dara ningun resultado, probemos con ILIKE:\n",
    "\n",
    "\tSELECT COUNT(*)\n",
    "\tFROM pasajero\n",
    "\tWHERE name ILIKE 'o%'; \n",
    "\n",
    "Hay tres resultados ✅\n",
    "\n",
    "#### Diferenciar entre % y _\n",
    "\n",
    "Realizemos un nuevo script, para encontrar todos los que empiezan por la letra *a*:\n",
    "\n",
    "\tSELECT COUNT(*)\n",
    "\tFROM pasajero\n",
    "\tWHERE name ILIKE 'a%'; \n",
    "\n",
    "Hay 26 resultados, de los cuales tienen diferentes tamaños.\n",
    "\n",
    "![](https://i.imgur.com/0XBGazc.png)\n",
    "\n",
    "Ahora encontremos los que empiezan por la letra *a*, y solo de cuatro caracteres:\n",
    "\n",
    "\tSELECT name\n",
    "\tFROM pasajero\n",
    "\tWHERE name ILIKE 'a___'; \n",
    "\n",
    "Los resultados seran: Aila, Alon. "
   ]
  },
  {
   "cell_type": "markdown",
   "metadata": {},
   "source": [
    "### IS y IS NOT\n",
    "\n",
    "Si queremos encontrar si un dato en particular es NULL o no lo es, no se puede simplemente con un =.\n",
    "\n",
    "    SELECT COUNT(*)\n",
    "\tFROM tren\n",
    "\tWHERE modelo IS NOT NULL;\n",
    "\n",
    "Arrojara 100 resultados."
   ]
  },
  {
   "cell_type": "markdown",
   "metadata": {},
   "source": [
    "## FUNCIONES ESPECIALES AVANZADAS\n",
    "\n",
    "- COALESCE: comparar dos valores y determinar cual es nulo\n",
    "- NULLIF\n",
    "- GREATEST\n",
    "- LEAST\n",
    "- BLOQUES ANONIMOS: consultas avanzadas usando casi el mismo lenguaje de PHP o Python\n",
    "\n",
    "Modificaremos un valor cualquiera en la tabla pasajero para que sea nulo, y una nueva consulta\n",
    "\n",
    "![](https://i.imgur.com/dlWdta8.png)\n",
    "\n",
    "Como ves el valor del nombre aparece en *null*. Si queremos que en vez de nulo aparezca otra cosa, por ejemplo, si no es Nulo que siga apareciendo el nombre, pero si lo es, que aparezca otra cosa:\n",
    "\n",
    "![](https://i.imgur.com/Fq0oWfp.png)"
   ]
  },
  {
   "cell_type": "markdown",
   "metadata": {},
   "source": [
    "### NULLIF\n",
    "\n",
    "Si dos campos son iguales, retorna NULL:\n",
    "\n",
    "    SELECT NULLIF (0,0);\n",
    "\n",
    "De lo contrario retorna el valor del primer argumento, para este caso retornaria 12:\n",
    "\n",
    "    SELECT NULLIF (12,-1);\n",
    "\n",
    "### Eviatando el error de la division por cero con NULLIF\n",
    "\n",
    "![](https://i.imgur.com/kOmxOqQ.png)\n",
    "\n",
    "![](https://i.imgur.com/Li0QetK.png)\n",
    "\n",
    "Con *NULLIF* al ser los dos valores iguales, entonces retorna NULL, pero lo interesante es que al dividir un numero entre NULL, el resultado es NULL, y no generara error. La palabra division, simplemente es un nombre cualquiera para la columna."
   ]
  },
  {
   "cell_type": "markdown",
   "metadata": {},
   "source": [
    "Como un ejemplo practico, considera el caso donde el *income* sea igual a *expenses*\n",
    "\n",
    "![](https://i.imgur.com/vP7pxZt.png)\n",
    "\n",
    "    SELECT investor_year,\n",
    "        price_per_share/NULLIF(income-expenses, 0)  AS P_E_ratio\n",
    "        FROM investor data;\n",
    "\n",
    "Si dado el caso son iguales, *price_per_share* se dividira por NULL, y no por cero."
   ]
  },
  {
   "cell_type": "markdown",
   "metadata": {},
   "source": [
    "### GREATEST\n",
    "\n",
    "Aqui retornara 14:\n",
    "\n",
    "    SELECT GREATEST(4,14,-1,11);\n",
    "\n",
    "### LEAST\n",
    "\n",
    "Y aqui -1:\n",
    "\n",
    "    SELECT LEAST(4,14,-1,11);"
   ]
  },
  {
   "cell_type": "markdown",
   "metadata": {},
   "source": [
    "### BLOQUES ANONIMOS\n",
    "\n",
    "Agregar una nueva columna donde indique si el pasajero es mayor de edad o no:\n",
    "\n",
    "    SELECT id, name, home_address, birthdate,\n",
    "    CASE\n",
    "\tWHEN birthdate > '2005-09-01' THEN\n",
    "\t'menor'\n",
    "\tELSE\n",
    "\t'mayor'\n",
    "\tEND\n",
    "    \tFROM public.pasajero;\n",
    "\n",
    "![](https://i.imgur.com/gGRtR4Z.png)\n",
    "\n",
    "#### RETO:\n",
    "\n",
    "Consultar la informacion de los pasajeros agregando una columna adicional, quienes empiezan su nombre por la letra *p*, y ademas quienes son mayores de edad o no."
   ]
  },
  {
   "cell_type": "markdown",
   "metadata": {},
   "source": [
    "#### SOL\n",
    "\n",
    "    SELECT name, birthdate,\n",
    "\t\tCASE\n",
    "\t\tWHEN birthdate >= '1996-08-04' THEN\n",
    "\t\t'menor'\n",
    "\t\tELSE\n",
    "\t\t'mayor'\n",
    "\t\tEND\n",
    "    FROM public.pasajero\n",
    "    WHERE name ILIKE 'p%';\n",
    "\n",
    "![](https://i.imgur.com/XDejMFE.png)"
   ]
  },
  {
   "cell_type": "markdown",
   "metadata": {},
   "source": [
    "#### Funcion especial - date_part\n",
    "\n",
    "This function allows you to retrieve subfields e.g., year, month, week from a date or time value.\n",
    "\n",
    "    SELECT date_part('year',TIMESTAMP '2017-01-01');\n",
    "\n",
    "Retornaria el año 2017    \n",
    "\n",
    "Otro ejemplo:\n",
    "\n",
    "    SELECT date_part('year', birthdate) as edad\n",
    "    FROM pasajero;\n",
    "\n",
    "![](https://i.imgur.com/ZE4O9Es.png)\n",
    "\n",
    "\n",
    "#### Ejemplo\n",
    "\n",
    "Seleccionar los pasajeros que sean mayores de 50 años para que tengan un descuento:\n",
    "\n",
    "    SELECT name AS nombre\n",
    "    FROM pasajero\n",
    "    WHERE date_part('year', current_date) - date_part('year', birthdate) >= 50;\n",
    "\n",
    "21 coincidencias."
   ]
  },
  {
   "cell_type": "markdown",
   "metadata": {},
   "source": [
    "## Vistas\n",
    "\n",
    "La consulta la vamos a repetir muchas veces, hay dos tipos:\n",
    "\n",
    "- volatil: siempre se consulta a la BD\n",
    "- materializada: se realiza una vez, quea guardada en memoria, y futuras busquedas buscan en la memoria en lugar de la BD.\n",
    "\n",
    "### Volatil\n",
    "\n",
    "Supongamos que queremos convertir la script anterior en una consulta volatil:\n",
    "\n",
    "Click derecho sobre *views* \n",
    "\n",
    "![](https://i.imgur.com/alLeZs7.png)\n",
    "\n",
    "Le damos un nombre cualquiera (rango_view), y copiamos el codigo en *CODE*, y guardamos.\n",
    "\n",
    "Y probemos:\n",
    "\n",
    "    SELECT * FROM rango_view; 👈"
   ]
  },
  {
   "cell_type": "markdown",
   "metadata": {},
   "source": [
    "### Vistas Materializadas\n",
    "\n",
    "Click derecho sobre *materialized views*:\n",
    "\n",
    "![](https://i.imgur.com/2TGRmYI.png)\n",
    "\n",
    "¿Que tal si creamos una vista materializada para los inicios despues de las 9PM?\n",
    "\n",
    "![](https://i.imgur.com/5kXnxQl.png)\n",
    "\n",
    "Le damos un nombre cualquiera(despues_noche_mview), copiamos el codigo en *definition*:\n",
    "\n",
    "    SELECT * \n",
    "    FROM viaje\n",
    "    WHERE date_part('hour', inicio) >= 21;\n"
   ]
  },
  {
   "cell_type": "markdown",
   "metadata": {},
   "source": [
    "En la pestaña de *storage*, hay la opcion de crearlo *With_data* es decir se crea la consulta, y en ese momento queda con datos, o de lo contrario queda vacia. Le damos la opcion de que no.\n",
    "\n",
    "![](https://i.imgur.com/r5BXnuC.png)\n",
    "\n",
    "La primera consulta, estara vacia:\n",
    "\n",
    "    SELECT * FROM despues_noche_mview;\n",
    "\n",
    "'materialized view \"despues_noche_mview\" has not been populated', asi que:\n",
    "\n",
    "    REFRESH MATERIALIZED VIEW despues_noche_mview;\n",
    "\n",
    "![](https://i.imgur.com/0YjgDeE.png)\n",
    "\n",
    "Borremos ahora una fila, la que tiene el ID 4."
   ]
  },
  {
   "cell_type": "markdown",
   "metadata": {},
   "source": [
    "Si volvemos a consultar la vista materializada, sin habeer refrescado nos seguira apareciendo la fila con el id=4. Nuevamente, y volvemos a consultar:\n",
    "\n",
    "    REFRESH MATERIALIZED VIEW despues_noche_mview;\n",
    "    SELECT * FROM despues_noche_mview;"
   ]
  },
  {
   "cell_type": "markdown",
   "metadata": {},
   "source": [
    "## PL/SQL\n",
    "\n",
    "https://www.postgresql.org/docs/9.2/plpgsql.html\n",
    "\n"
   ]
  }
 ],
 "metadata": {
  "language_info": {
   "name": "python"
  },
  "orig_nbformat": 4
 },
 "nbformat": 4,
 "nbformat_minor": 2
}
