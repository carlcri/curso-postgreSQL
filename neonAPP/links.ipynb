{
 "cells": [
  {
   "attachments": {},
   "cell_type": "markdown",
   "metadata": {},
   "source": [
    "https://mockaroo.com/\n",
    "\n",
    "https://ritza.co/articles/neon-flask/\n",
    "\n",
    "https://pynative.com/python-postgresql-select-data-from-table/\n",
    "\n",
    "https://www.tutorialspoint.com/python_data_access/python_postgresql_create_table.htm\n",
    "\n",
    "\n",
    "https://platzi.com/clases/1480-postgresql/24175-bienvenida-al-curso/"
   ]
  }
 ],
 "metadata": {
  "language_info": {
   "name": "python"
  },
  "orig_nbformat": 4
 },
 "nbformat": 4,
 "nbformat_minor": 2
}
