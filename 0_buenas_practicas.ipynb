{
 "cells": [
  {
   "attachments": {},
   "cell_type": "markdown",
   "metadata": {},
   "source": [
    "# Curso de PostgreSQL\n",
    "\n",
    "Instructor: Oswaldo Rodríguez González"
   ]
  },
  {
   "attachments": {},
   "cell_type": "markdown",
   "metadata": {},
   "source": [
    "\n",
    "### Preparando el repositorio remoto\n",
    "\n",
    "En GitHUb creo un nuevo repositorio con el mismo nombre: *curso_docker*.\n",
    "\n",
    "Una vez creado el repositorio, solo contendra un archivo readme. Ahora vamos a copiar la direccion del repositorio, dando click en el boton verde, nos aseguramos que este seleccionada con la opcion SSH, y volvemos a nuestra consola local.\n",
    "\n",
    "Nos aseguramos que estemos en la rama master de nuestro repositorio, y vamos a decirle a git que vamos a elegir un origen remoto de nuestros archivos, con el comando:\n",
    "\n",
    "    sudo git remote add origin [direccion del repo]\n",
    "\n",
    "para nuestro repositorio especificio seria:\n",
    "\n",
    "    sudo git remote add origin git@github.com:carlcri/curso-postgreSQL.git\n",
    "\n",
    "Verificamos con:\n",
    "\n",
    "    git remote -v\n"
   ]
  },
  {
   "attachments": {},
   "cell_type": "markdown",
   "metadata": {},
   "source": [
    "Vamos a preparar nuestro repositorio antes de hacer el PUSH para llevar los archivos desde el repo local al remoto.\n",
    "\n",
    "Asi que lo primero es hacer un PULL para integrar los cambios remotos, esta sera una operacion especial, con este comando:\n",
    "\n",
    "    sudo git pull origin main --allow-unrelated-histories\n",
    "\n",
    "Analizando este comando con cuidado vemos que el *origin* es *main*, debido a que en GitHub por defecto, no existe la rama MASTER sino MAIN\n",
    "\n",
    "Y al ejecutarlo da un error bastante molesto: 😭😭\n",
    "\n",
    "![](https://i.imgur.com/2BaW7eM.png)\n",
    "\n",
    "¿que hacer?\n",
    "\n",
    "vamos a intentar\n",
    "\n",
    "     git config pull.rebase false \n",
    "\n",
    "y volvemos a intentar. El comando anterior. Y funciono 😇\n",
    "\n",
    "### Recuerda puedes revisar la configuracion asi:\n",
    "\n",
    "    git config --list"
   ]
  },
  {
   "attachments": {},
   "cell_type": "markdown",
   "metadata": {},
   "source": [
    "\n",
    "Una vez se ejecuta el anterior comando, entramos a una pantalla que siempre es dificil de cerrar, por lo general se cierra con una combinaciond de teclas como son:\n",
    "\n",
    "    CTRL + X\n",
    "    CTRL + X + X\n",
    "\n",
    "Al revisar la carpeta del repositorio con el comando *ls* se observa hay un archivo nuevo que antes no estaba, peor si en el remoto: *README.md*.\n",
    "\n",
    "Ahora estamos listos para el PULL, ¡pero antes!\n",
    "\n",
    "### ¿que pasara si desactivo vuelvo a colocar el rebase como estaba?\n",
    "\n",
    "    git config pull.rebase true\n",
    "\n",
    "Y realizamos el PULL\n",
    "\n",
    "    sudo git pull origin main\n",
    "\n",
    "![](https://i.imgur.com/zeAD2nP.png)\n"
   ]
  },
  {
   "attachments": {},
   "cell_type": "markdown",
   "metadata": {},
   "source": [
    "Parece que todo salio bien!\n",
    "\n",
    "Y ahora si el famoso *push*\n",
    "\n",
    "    sudo git push origin master:main\n",
    "\n",
    "Y perfecto ✅\n",
    "\n",
    "Revisamos lo que hay dentro del repositorio en GITHUB y se observa los cambios locales se guardaron en el remoto. Asi que demonos por bien servidos."
   ]
  },
  {
   "attachments": {},
   "cell_type": "markdown",
   "metadata": {},
   "source": [
    "### Configurar Cuenta Alterna como Colaborador\n",
    "\n",
    "Mi cuenta alterna en GitHub *gataapestosa* hay que añadirla como colaborador, porque ella, desde su repositorio local, sera quien realize las practicas y contenidos del curso.\n",
    "\n",
    "Desde los *settings* del repositorio, ir a la parte de collaborators y añadirla.\n",
    "\n",
    "Delegar a *gataapestosa* para que cree las ramas, y las suba a *Github*\n",
    "\n",
    "#### Clonar el Proyecto\n",
    "\n",
    "El entorno de trabajo de la cuenta alterna es:\n",
    "\n",
    "    ~/warehouse/anita\n",
    "\n",
    "Desde esta ubicacion, clonar el proyecto, (Boton Verde para obtener la ubicacion https), como se configuro publico, no habra ningun problema en este paso, :\n",
    "\n",
    "     git clone https://github.com/carlcri/selenium_python.git"
   ]
  },
  {
   "attachments": {},
   "cell_type": "markdown",
   "metadata": {},
   "source": [
    "### Ramas\n",
    "\n",
    "Deben ser creadas por la cuenta alterna\n",
    "\n",
    "En el entorno local habra dos ramas, una principal y otra de desarrollo. El objetivo es practicar los comandos de *git*.\n",
    "\n",
    "1.  master\n",
    "2.  development\n",
    "\n",
    "Solo se trabajara en la rama development, y al final se realizara un merge a la rama principal. Para crear la rama\n",
    "\n",
    "    git branch development\n",
    "\n",
    "#### comandos utiles para trabajar con ramas\n",
    "\n",
    "    git branch\n",
    "    git show-branch --all\n",
    "\n",
    "    git log \n",
    "    git log -all\n",
    "    git log --graph\n",
    "    git log --graph --decorate --oneline\n",
    "    git log --all --graph --decorate --oneline"
   ]
  },
  {
   "attachments": {},
   "cell_type": "markdown",
   "metadata": {},
   "source": [
    "## Realizando cambios en la rama development\n",
    "\n",
    "Asegurarse estar trabajando desde el *entorno de trabajo de la cuenta alterna* el branch *development*. Igualmente, como se ha clonado el proyecto, verificar con el comando *git remote*\n",
    "\n",
    "![origin](https://i.imgur.com/E78OjTs.png)\n",
    "\n",
    "Observamos el origen esta vinculado al protocolo https y no SSh"
   ]
  },
  {
   "attachments": {},
   "cell_type": "markdown",
   "metadata": {},
   "source": [
    "Guardamos los cambios con un *commit* y procedemos hacer un *push* usando la cuenta alterna. El username sera el de la cuenta alterna, y el password, el token generado y guardado en un archivo de texto plano \n",
    "\n",
    "![push](https://i.imgur.com/6ihxPgR.png)"
   ]
  },
  {
   "cell_type": "markdown",
   "metadata": {},
   "source": [
    "## Docker\n",
    "\n",
    "https://www.optimadata.nl/blogs/1/n8dyr5-how-to-run-postgres-on-docker-part-1 \n",
    "\n",
    "Ir a docker hub y traer un nueva imagen de *mysql*, sugiere usar: \n",
    "\n",
    "    docker pull postgres:latest\n",
    "\n",
    "Y para verificar que se hay una nueva imagen con el tag *latest*:\n",
    "\n",
    "    sudo docker images\n",
    "\n",
    "### Creando una nueva instancia\n",
    "\n",
    "    docker run --name some-postgres -e POSTGRES_PASSWORD=mysecret -d postgres\n",
    "\n",
    "La cual estara ejecutandose en el backgrond. Para acceder ejecutamos una terminal:\n",
    "\n",
    "    docker exec -it some-postgres bash\n",
    "\n",
    "![](https://i.imgur.com/6ibLSDD.png)\n",
    "\n",
    "Now we have root access to the container. Notice the container ID in the command prompt. To access postgres you need to change to user ‘postgres’ and then run psql:\n",
    "\n",
    "    su postgres\n",
    "    psql\n",
    "\n",
    "Para ver informacion de la conexion: \n",
    "\n",
    "    \\conninfo\n",
    "\n",
    "![](https://i.imgur.com/pNMk0dW.png)\n",
    "\n",
    "To exit psql, type:\n",
    "\n",
    "    \\q\n",
    "\n",
    "\n",
    "\n"
   ]
  },
  {
   "cell_type": "markdown",
   "metadata": {},
   "source": [
    "### Creando un nuevo volumen\n",
    "\n",
    "Para guardar los datos de forma persistente:\n",
    "\n",
    "    docker volume create postgres-db-data\n",
    "\n",
    "De acuerdo a la documentacion, postgres guarda la base de datos por defecto en: **/var/lib/postgresql/data**\n",
    "\n",
    "Y volviendo a iniciar una instancia montando el nuevo volumen:\n",
    "\n",
    "    docker run --name some-postgres --mount src=postgres-db-data,dst=/var/lib/postgresql/data -e POSTGRES_PASSWORD=mysecret -d postgres\n",
    "\n",
    "Creamos una nueva base de datos:\n",
    "\n",
    "    CREATE DATABASE zoo;\n",
    "\n",
    "Removamos el container:\n",
    "\n",
    "    docker rm -f some-postgres\n",
    "\n",
    "Y volvamos a crear de nuevo la instancia, y verificar que este la BD. 😎"
   ]
  },
  {
   "cell_type": "markdown",
   "metadata": {},
   "source": [
    "### Exponiendo un puerto:\n",
    "\n",
    "Vamos a exponer el puerto 5432 en el puerto 54320 del localhost para conectarnos con *Pgadmin*\n",
    "\n",
    "    docker run --name some-postgres -p 54320:5432 --mount src=postgres-db-data,dst=/var/lib/postgresql/data -e POSTGRES_PASSWORD=mysecret -d postgres\n",
    "\n",
    "Vamos a Pgadmin:\n",
    "\n",
    "Objetc--> Register Server\n",
    "\n",
    "- le damos un nombre cualquiera, en password: mysecret\n",
    "\n",
    "![](https://i.imgur.com/hNQXD0v.png)\n",
    "\n",
    "Si todo esta bien, debemos estar visualizando el servidor y la base de datos *zoo*\n"
   ]
  }
 ],
 "metadata": {
  "kernelspec": {
   "display_name": "env",
   "language": "python",
   "name": "python3"
  },
  "language_info": {
   "codemirror_mode": {
    "name": "ipython",
    "version": 3
   },
   "file_extension": ".py",
   "mimetype": "text/x-python",
   "name": "python",
   "nbconvert_exporter": "python",
   "pygments_lexer": "ipython3",
   "version": "3.10.6"
  },
  "orig_nbformat": 4,
  "vscode": {
   "interpreter": {
    "hash": "69dfc09757bcc94f6d89102d682499d9338835bf70c24d347beb60eb352134b0"
   }
  }
 },
 "nbformat": 4,
 "nbformat_minor": 2
}
